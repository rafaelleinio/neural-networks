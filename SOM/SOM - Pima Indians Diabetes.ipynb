{
 "cells": [
  {
   "cell_type": "markdown",
   "metadata": {},
   "source": [
    "## libs"
   ]
  },
  {
   "cell_type": "code",
   "execution_count": 1,
   "metadata": {},
   "outputs": [],
   "source": [
    "# python utils\n",
    "import itertools\n",
    "import inspect\n",
    "\n",
    "# pre-processing and exploring data\n",
    "import numpy as np\n",
    "import pandas as pd\n",
    "import matplotlib.pyplot as plt\n",
    "\n",
    "# model building\n",
    "from minisom import MiniSom "
   ]
  },
  {
   "cell_type": "markdown",
   "metadata": {},
   "source": [
    "## Import Data"
   ]
  },
  {
   "cell_type": "code",
   "execution_count": 3,
   "metadata": {},
   "outputs": [
    {
     "data": {
      "text/html": [
       "<div>\n",
       "<style scoped>\n",
       "    .dataframe tbody tr th:only-of-type {\n",
       "        vertical-align: middle;\n",
       "    }\n",
       "\n",
       "    .dataframe tbody tr th {\n",
       "        vertical-align: top;\n",
       "    }\n",
       "\n",
       "    .dataframe thead th {\n",
       "        text-align: right;\n",
       "    }\n",
       "</style>\n",
       "<table border=\"1\" class=\"dataframe\">\n",
       "  <thead>\n",
       "    <tr style=\"text-align: right;\">\n",
       "      <th></th>\n",
       "      <th>Pregnancies</th>\n",
       "      <th>Glucose</th>\n",
       "      <th>BloodPressure</th>\n",
       "      <th>SkinThickness</th>\n",
       "      <th>Insulin</th>\n",
       "      <th>BMI</th>\n",
       "      <th>DiabetesPedigreeFunction</th>\n",
       "      <th>Age</th>\n",
       "      <th>Outcome</th>\n",
       "    </tr>\n",
       "  </thead>\n",
       "  <tbody>\n",
       "    <tr>\n",
       "      <th>0</th>\n",
       "      <td>6</td>\n",
       "      <td>148</td>\n",
       "      <td>72</td>\n",
       "      <td>35</td>\n",
       "      <td>0</td>\n",
       "      <td>33.6</td>\n",
       "      <td>0.627</td>\n",
       "      <td>50</td>\n",
       "      <td>1</td>\n",
       "    </tr>\n",
       "    <tr>\n",
       "      <th>1</th>\n",
       "      <td>1</td>\n",
       "      <td>85</td>\n",
       "      <td>66</td>\n",
       "      <td>29</td>\n",
       "      <td>0</td>\n",
       "      <td>26.6</td>\n",
       "      <td>0.351</td>\n",
       "      <td>31</td>\n",
       "      <td>0</td>\n",
       "    </tr>\n",
       "    <tr>\n",
       "      <th>2</th>\n",
       "      <td>8</td>\n",
       "      <td>183</td>\n",
       "      <td>64</td>\n",
       "      <td>0</td>\n",
       "      <td>0</td>\n",
       "      <td>23.3</td>\n",
       "      <td>0.672</td>\n",
       "      <td>32</td>\n",
       "      <td>1</td>\n",
       "    </tr>\n",
       "    <tr>\n",
       "      <th>3</th>\n",
       "      <td>1</td>\n",
       "      <td>89</td>\n",
       "      <td>66</td>\n",
       "      <td>23</td>\n",
       "      <td>94</td>\n",
       "      <td>28.1</td>\n",
       "      <td>0.167</td>\n",
       "      <td>21</td>\n",
       "      <td>0</td>\n",
       "    </tr>\n",
       "    <tr>\n",
       "      <th>4</th>\n",
       "      <td>0</td>\n",
       "      <td>137</td>\n",
       "      <td>40</td>\n",
       "      <td>35</td>\n",
       "      <td>168</td>\n",
       "      <td>43.1</td>\n",
       "      <td>2.288</td>\n",
       "      <td>33</td>\n",
       "      <td>1</td>\n",
       "    </tr>\n",
       "  </tbody>\n",
       "</table>\n",
       "</div>"
      ],
      "text/plain": [
       "   Pregnancies  Glucose  BloodPressure  SkinThickness  Insulin   BMI  \\\n",
       "0            6      148             72             35        0  33.6   \n",
       "1            1       85             66             29        0  26.6   \n",
       "2            8      183             64              0        0  23.3   \n",
       "3            1       89             66             23       94  28.1   \n",
       "4            0      137             40             35      168  43.1   \n",
       "\n",
       "   DiabetesPedigreeFunction  Age  Outcome  \n",
       "0                     0.627   50        1  \n",
       "1                     0.351   31        0  \n",
       "2                     0.672   32        1  \n",
       "3                     0.167   21        0  \n",
       "4                     2.288   33        1  "
      ]
     },
     "execution_count": 3,
     "metadata": {},
     "output_type": "execute_result"
    }
   ],
   "source": [
    "df = pd.read_csv('../datasets/pima_indians_diabetes.csv', header=0)\n",
    "df.head()"
   ]
  },
  {
   "cell_type": "markdown",
   "metadata": {},
   "source": [
    "## Preprocessing Data"
   ]
  },
  {
   "cell_type": "code",
   "execution_count": 4,
   "metadata": {},
   "outputs": [
    {
     "data": {
      "text/plain": [
       "Pregnancies                    int64\n",
       "Glucose                        int64\n",
       "BloodPressure                  int64\n",
       "SkinThickness                  int64\n",
       "Insulin                        int64\n",
       "BMI                          float64\n",
       "DiabetesPedigreeFunction     float64\n",
       "Age                            int64\n",
       "Outcome                     category\n",
       "dtype: object"
      ]
     },
     "execution_count": 4,
     "metadata": {},
     "output_type": "execute_result"
    }
   ],
   "source": [
    "df['Outcome'] = df['Outcome'].factorize()[0]\n",
    "df['Outcome'] = df['Outcome'].astype(\"category\")\n",
    "df.dtypes"
   ]
  },
  {
   "cell_type": "code",
   "execution_count": 5,
   "metadata": {},
   "outputs": [],
   "source": [
    "# split in input and output sets\n",
    "input_df = df.drop(\"Outcome\", axis=1)\n",
    "output_df = df[\"Outcome\"]"
   ]
  },
  {
   "cell_type": "code",
   "execution_count": 6,
   "metadata": {},
   "outputs": [
    {
     "data": {
      "text/html": [
       "<div>\n",
       "<style scoped>\n",
       "    .dataframe tbody tr th:only-of-type {\n",
       "        vertical-align: middle;\n",
       "    }\n",
       "\n",
       "    .dataframe tbody tr th {\n",
       "        vertical-align: top;\n",
       "    }\n",
       "\n",
       "    .dataframe thead th {\n",
       "        text-align: right;\n",
       "    }\n",
       "</style>\n",
       "<table border=\"1\" class=\"dataframe\">\n",
       "  <thead>\n",
       "    <tr style=\"text-align: right;\">\n",
       "      <th></th>\n",
       "      <th>Pregnancies</th>\n",
       "      <th>Glucose</th>\n",
       "      <th>BloodPressure</th>\n",
       "      <th>SkinThickness</th>\n",
       "      <th>Insulin</th>\n",
       "      <th>BMI</th>\n",
       "      <th>DiabetesPedigreeFunction</th>\n",
       "      <th>Age</th>\n",
       "    </tr>\n",
       "  </thead>\n",
       "  <tbody>\n",
       "    <tr>\n",
       "      <th>0</th>\n",
       "      <td>0.352941</td>\n",
       "      <td>0.743719</td>\n",
       "      <td>0.590164</td>\n",
       "      <td>0.353535</td>\n",
       "      <td>0.000000</td>\n",
       "      <td>0.500745</td>\n",
       "      <td>0.234415</td>\n",
       "      <td>0.483333</td>\n",
       "    </tr>\n",
       "    <tr>\n",
       "      <th>1</th>\n",
       "      <td>0.058824</td>\n",
       "      <td>0.427136</td>\n",
       "      <td>0.540984</td>\n",
       "      <td>0.292929</td>\n",
       "      <td>0.000000</td>\n",
       "      <td>0.396423</td>\n",
       "      <td>0.116567</td>\n",
       "      <td>0.166667</td>\n",
       "    </tr>\n",
       "    <tr>\n",
       "      <th>2</th>\n",
       "      <td>0.470588</td>\n",
       "      <td>0.919598</td>\n",
       "      <td>0.524590</td>\n",
       "      <td>0.000000</td>\n",
       "      <td>0.000000</td>\n",
       "      <td>0.347243</td>\n",
       "      <td>0.253629</td>\n",
       "      <td>0.183333</td>\n",
       "    </tr>\n",
       "    <tr>\n",
       "      <th>3</th>\n",
       "      <td>0.058824</td>\n",
       "      <td>0.447236</td>\n",
       "      <td>0.540984</td>\n",
       "      <td>0.232323</td>\n",
       "      <td>0.111111</td>\n",
       "      <td>0.418778</td>\n",
       "      <td>0.038002</td>\n",
       "      <td>0.000000</td>\n",
       "    </tr>\n",
       "    <tr>\n",
       "      <th>4</th>\n",
       "      <td>0.000000</td>\n",
       "      <td>0.688442</td>\n",
       "      <td>0.327869</td>\n",
       "      <td>0.353535</td>\n",
       "      <td>0.198582</td>\n",
       "      <td>0.642325</td>\n",
       "      <td>0.943638</td>\n",
       "      <td>0.200000</td>\n",
       "    </tr>\n",
       "  </tbody>\n",
       "</table>\n",
       "</div>"
      ],
      "text/plain": [
       "   Pregnancies   Glucose  BloodPressure  SkinThickness   Insulin       BMI  \\\n",
       "0     0.352941  0.743719       0.590164       0.353535  0.000000  0.500745   \n",
       "1     0.058824  0.427136       0.540984       0.292929  0.000000  0.396423   \n",
       "2     0.470588  0.919598       0.524590       0.000000  0.000000  0.347243   \n",
       "3     0.058824  0.447236       0.540984       0.232323  0.111111  0.418778   \n",
       "4     0.000000  0.688442       0.327869       0.353535  0.198582  0.642325   \n",
       "\n",
       "   DiabetesPedigreeFunction       Age  \n",
       "0                  0.234415  0.483333  \n",
       "1                  0.116567  0.166667  \n",
       "2                  0.253629  0.183333  \n",
       "3                  0.038002  0.000000  \n",
       "4                  0.943638  0.200000  "
      ]
     },
     "execution_count": 6,
     "metadata": {},
     "output_type": "execute_result"
    }
   ],
   "source": [
    "# normalizing values of input df between 0 and 1 (per column)\n",
    "def normalize(df):\n",
    "    result = df.copy()\n",
    "    for feature_name in df.columns:\n",
    "        max_value = df[feature_name].max()\n",
    "        min_value = df[feature_name].min()\n",
    "        result[feature_name] = (df[feature_name] - min_value) / (max_value - min_value)\n",
    "    return result\n",
    "\n",
    "input_df = normalize(input_df)\n",
    "input_df.head()"
   ]
  },
  {
   "cell_type": "code",
   "execution_count": 7,
   "metadata": {
    "scrolled": true
   },
   "outputs": [
    {
     "data": {
      "text/plain": [
       "array([[0.35294118, 0.74371859, 0.59016393, ..., 0.50074516, 0.23441503,\n",
       "        0.48333333],\n",
       "       [0.05882353, 0.42713568, 0.54098361, ..., 0.39642325, 0.11656704,\n",
       "        0.16666667],\n",
       "       [0.47058824, 0.91959799, 0.52459016, ..., 0.34724292, 0.25362938,\n",
       "        0.18333333],\n",
       "       ...,\n",
       "       [0.29411765, 0.6080402 , 0.59016393, ..., 0.390462  , 0.07130658,\n",
       "        0.15      ],\n",
       "       [0.05882353, 0.63316583, 0.49180328, ..., 0.4485842 , 0.11571307,\n",
       "        0.43333333],\n",
       "       [0.05882353, 0.46733668, 0.57377049, ..., 0.45305514, 0.10119556,\n",
       "        0.03333333]])"
      ]
     },
     "execution_count": 7,
     "metadata": {},
     "output_type": "execute_result"
    }
   ],
   "source": [
    "# minsisom lib expects input_data as numpy matrix not pandas, converting...\n",
    "input_data = input_df.values\n",
    "input_data"
   ]
  },
  {
   "cell_type": "markdown",
   "metadata": {},
   "source": [
    "## Model builder"
   ]
  },
  {
   "cell_type": "code",
   "execution_count": 8,
   "metadata": {},
   "outputs": [],
   "source": [
    "def build_som_model(size, input_len, sigma, learning_rate):\n",
    "    return MiniSom(size, size, input_len, sigma=sigma, learning_rate=learning_rate, \n",
    "                   neighborhood_function='bubble', random_seed=10)\n",
    "\n",
    "def build_models(builder_method, *args_tests):\n",
    "    \"\"\"\n",
    "    Build models with all the combinations of the args_test passed\n",
    "    \"\"\"\n",
    "    builder_args_names = list(inspect.signature(builder_method).parameters.keys())\n",
    "    return [\n",
    "        dict(((\"model\", builder_method(*args)),) + tuple(zip(builder_args_names, args)))\n",
    "        for args in itertools.product(*args_tests)\n",
    "    ]"
   ]
  },
  {
   "cell_type": "markdown",
   "metadata": {},
   "source": [
    "## Models Definition"
   ]
  },
  {
   "cell_type": "code",
   "execution_count": 12,
   "metadata": {},
   "outputs": [],
   "source": [
    "# Parameters definition\n",
    "\n",
    "# fixed\n",
    "input_len = [8]\n",
    "size_tests = [32]\n",
    "\n",
    "# tests\n",
    "sigma_tests = [10, 5, 3, 1]\n",
    "learning_rate_tests = [5, 1, 0.1, 0.01]"
   ]
  },
  {
   "cell_type": "code",
   "execution_count": 13,
   "metadata": {
    "scrolled": true
   },
   "outputs": [
    {
     "data": {
      "text/plain": [
       "[{'model': <minisom.MiniSom at 0x7fd4433e3a10>,\n",
       "  'size': 32,\n",
       "  'input_len': 8,\n",
       "  'sigma': 10,\n",
       "  'learning_rate': 5},\n",
       " {'model': <minisom.MiniSom at 0x7fd4802fc1d0>,\n",
       "  'size': 32,\n",
       "  'input_len': 8,\n",
       "  'sigma': 10,\n",
       "  'learning_rate': 1},\n",
       " {'model': <minisom.MiniSom at 0x7fd4802fc2d0>,\n",
       "  'size': 32,\n",
       "  'input_len': 8,\n",
       "  'sigma': 10,\n",
       "  'learning_rate': 0.1},\n",
       " {'model': <minisom.MiniSom at 0x7fd443382d90>,\n",
       "  'size': 32,\n",
       "  'input_len': 8,\n",
       "  'sigma': 10,\n",
       "  'learning_rate': 0.01},\n",
       " {'model': <minisom.MiniSom at 0x7fd47c55bf90>,\n",
       "  'size': 32,\n",
       "  'input_len': 8,\n",
       "  'sigma': 5,\n",
       "  'learning_rate': 5},\n",
       " {'model': <minisom.MiniSom at 0x7fd443c874d0>,\n",
       "  'size': 32,\n",
       "  'input_len': 8,\n",
       "  'sigma': 5,\n",
       "  'learning_rate': 1},\n",
       " {'model': <minisom.MiniSom at 0x7fd443c870d0>,\n",
       "  'size': 32,\n",
       "  'input_len': 8,\n",
       "  'sigma': 5,\n",
       "  'learning_rate': 0.1},\n",
       " {'model': <minisom.MiniSom at 0x7fd4433e3e50>,\n",
       "  'size': 32,\n",
       "  'input_len': 8,\n",
       "  'sigma': 5,\n",
       "  'learning_rate': 0.01},\n",
       " {'model': <minisom.MiniSom at 0x7fd4433e3fd0>,\n",
       "  'size': 32,\n",
       "  'input_len': 8,\n",
       "  'sigma': 3,\n",
       "  'learning_rate': 5},\n",
       " {'model': <minisom.MiniSom at 0x7fd443c87090>,\n",
       "  'size': 32,\n",
       "  'input_len': 8,\n",
       "  'sigma': 3,\n",
       "  'learning_rate': 1},\n",
       " {'model': <minisom.MiniSom at 0x7fd443382090>,\n",
       "  'size': 32,\n",
       "  'input_len': 8,\n",
       "  'sigma': 3,\n",
       "  'learning_rate': 0.1},\n",
       " {'model': <minisom.MiniSom at 0x7fd4433e3d50>,\n",
       "  'size': 32,\n",
       "  'input_len': 8,\n",
       "  'sigma': 3,\n",
       "  'learning_rate': 0.01},\n",
       " {'model': <minisom.MiniSom at 0x7fd4433e3dd0>,\n",
       "  'size': 32,\n",
       "  'input_len': 8,\n",
       "  'sigma': 1,\n",
       "  'learning_rate': 5},\n",
       " {'model': <minisom.MiniSom at 0x7fd4433e3cd0>,\n",
       "  'size': 32,\n",
       "  'input_len': 8,\n",
       "  'sigma': 1,\n",
       "  'learning_rate': 1},\n",
       " {'model': <minisom.MiniSom at 0x7fd4433e3d90>,\n",
       "  'size': 32,\n",
       "  'input_len': 8,\n",
       "  'sigma': 1,\n",
       "  'learning_rate': 0.1},\n",
       " {'model': <minisom.MiniSom at 0x7fd4433e3b90>,\n",
       "  'size': 32,\n",
       "  'input_len': 8,\n",
       "  'sigma': 1,\n",
       "  'learning_rate': 0.01}]"
      ]
     },
     "execution_count": 13,
     "metadata": {},
     "output_type": "execute_result"
    }
   ],
   "source": [
    "# building models with all the combinations of the test parameters\n",
    "models = build_models(\n",
    "    build_som_model,\n",
    "    size_tests,\n",
    "    input_len,\n",
    "    sigma_tests,\n",
    "    learning_rate_tests,\n",
    ")\n",
    "models"
   ]
  },
  {
   "cell_type": "markdown",
   "metadata": {},
   "source": [
    "## Models Training"
   ]
  },
  {
   "cell_type": "code",
   "execution_count": 14,
   "metadata": {},
   "outputs": [
    {
     "name": "stderr",
     "output_type": "stream",
     "text": [
      "/home/rafaelpereira/anaconda3/envs/tensorflow/lib/python3.7/site-packages/numpy/linalg/linalg.py:2513: RuntimeWarning: overflow encountered in reduce\n",
      "  return sqrt(add.reduce(s, axis=axis, keepdims=keepdims))\n",
      "/home/rafaelpereira/anaconda3/envs/tensorflow/lib/python3.7/site-packages/numpy/linalg/linalg.py:2512: RuntimeWarning: overflow encountered in multiply\n",
      "  s = (x.conj() * x).real\n",
      "/home/rafaelpereira/anaconda3/envs/tensorflow/lib/python3.7/site-packages/minisom.py:258: RuntimeWarning: invalid value encountered in add\n",
      "  self._weights += einsum('ij, ijk->ijk', g, x-self._weights)\n"
     ]
    }
   ],
   "source": [
    "for model in models:\n",
    "    model['model'].pca_weights_init(input_data)\n",
    "    model['model'].train_batch(input_data, 10000, verbose=False)\n",
    "    model['quantization_error'] = model['model'].quantization_error(input_data)\n",
    "    model['topographic_error'] = model['model'].topographic_error(input_data)"
   ]
  },
  {
   "cell_type": "code",
   "execution_count": 15,
   "metadata": {},
   "outputs": [
    {
     "data": {
      "text/plain": [
       "[{'model': <minisom.MiniSom at 0x7fd4433e3a10>,\n",
       "  'size': 32,\n",
       "  'input_len': 8,\n",
       "  'sigma': 10,\n",
       "  'learning_rate': 5,\n",
       "  'quantization_error': nan,\n",
       "  'topographic_error': 1.0},\n",
       " {'model': <minisom.MiniSom at 0x7fd4802fc1d0>,\n",
       "  'size': 32,\n",
       "  'input_len': 8,\n",
       "  'sigma': 10,\n",
       "  'learning_rate': 1,\n",
       "  'quantization_error': 0.19662808047555616,\n",
       "  'topographic_error': 0.7942708333333334},\n",
       " {'model': <minisom.MiniSom at 0x7fd4802fc2d0>,\n",
       "  'size': 32,\n",
       "  'input_len': 8,\n",
       "  'sigma': 10,\n",
       "  'learning_rate': 0.1,\n",
       "  'quantization_error': 0.18801497930909408,\n",
       "  'topographic_error': 0.9361979166666666},\n",
       " {'model': <minisom.MiniSom at 0x7fd443382d90>,\n",
       "  'size': 32,\n",
       "  'input_len': 8,\n",
       "  'sigma': 10,\n",
       "  'learning_rate': 0.01,\n",
       "  'quantization_error': 0.23111733669923065,\n",
       "  'topographic_error': 1.0},\n",
       " {'model': <minisom.MiniSom at 0x7fd47c55bf90>,\n",
       "  'size': 32,\n",
       "  'input_len': 8,\n",
       "  'sigma': 5,\n",
       "  'learning_rate': 5,\n",
       "  'quantization_error': 0.7833031198716346,\n",
       "  'topographic_error': 1.0},\n",
       " {'model': <minisom.MiniSom at 0x7fd443c874d0>,\n",
       "  'size': 32,\n",
       "  'input_len': 8,\n",
       "  'sigma': 5,\n",
       "  'learning_rate': 1,\n",
       "  'quantization_error': 0.1278933878216695,\n",
       "  'topographic_error': 0.9153645833333334},\n",
       " {'model': <minisom.MiniSom at 0x7fd443c870d0>,\n",
       "  'size': 32,\n",
       "  'input_len': 8,\n",
       "  'sigma': 5,\n",
       "  'learning_rate': 0.1,\n",
       "  'quantization_error': 0.15860306027066642,\n",
       "  'topographic_error': 0.9973958333333334},\n",
       " {'model': <minisom.MiniSom at 0x7fd4433e3e50>,\n",
       "  'size': 32,\n",
       "  'input_len': 8,\n",
       "  'sigma': 5,\n",
       "  'learning_rate': 0.01,\n",
       "  'quantization_error': 0.22120755768210568,\n",
       "  'topographic_error': 0.9817708333333334},\n",
       " {'model': <minisom.MiniSom at 0x7fd4433e3fd0>,\n",
       "  'size': 32,\n",
       "  'input_len': 8,\n",
       "  'sigma': 3,\n",
       "  'learning_rate': 5,\n",
       "  'quantization_error': 0.9858500663707851,\n",
       "  'topographic_error': 1.0},\n",
       " {'model': <minisom.MiniSom at 0x7fd443c87090>,\n",
       "  'size': 32,\n",
       "  'input_len': 8,\n",
       "  'sigma': 3,\n",
       "  'learning_rate': 1,\n",
       "  'quantization_error': 0.12601367357851964,\n",
       "  'topographic_error': 0.9700520833333334},\n",
       " {'model': <minisom.MiniSom at 0x7fd443382090>,\n",
       "  'size': 32,\n",
       "  'input_len': 8,\n",
       "  'sigma': 3,\n",
       "  'learning_rate': 0.1,\n",
       "  'quantization_error': 0.17028070892851954,\n",
       "  'topographic_error': 0.984375},\n",
       " {'model': <minisom.MiniSom at 0x7fd4433e3d50>,\n",
       "  'size': 32,\n",
       "  'input_len': 8,\n",
       "  'sigma': 3,\n",
       "  'learning_rate': 0.01,\n",
       "  'quantization_error': 0.2240584005584438,\n",
       "  'topographic_error': 0.9856770833333334},\n",
       " {'model': <minisom.MiniSom at 0x7fd4433e3dd0>,\n",
       "  'size': 32,\n",
       "  'input_len': 8,\n",
       "  'sigma': 1,\n",
       "  'learning_rate': 5,\n",
       "  'quantization_error': 1.320358443277201,\n",
       "  'topographic_error': 1.0},\n",
       " {'model': <minisom.MiniSom at 0x7fd4433e3cd0>,\n",
       "  'size': 32,\n",
       "  'input_len': 8,\n",
       "  'sigma': 1,\n",
       "  'learning_rate': 1,\n",
       "  'quantization_error': 0.2710467677436538,\n",
       "  'topographic_error': 0.9856770833333334},\n",
       " {'model': <minisom.MiniSom at 0x7fd4433e3d90>,\n",
       "  'size': 32,\n",
       "  'input_len': 8,\n",
       "  'sigma': 1,\n",
       "  'learning_rate': 0.1,\n",
       "  'quantization_error': 0.3274607595189732,\n",
       "  'topographic_error': 0.9856770833333334},\n",
       " {'model': <minisom.MiniSom at 0x7fd4433e3b90>,\n",
       "  'size': 32,\n",
       "  'input_len': 8,\n",
       "  'sigma': 1,\n",
       "  'learning_rate': 0.01,\n",
       "  'quantization_error': 0.3550656759262299,\n",
       "  'topographic_error': 0.9856770833333334}]"
      ]
     },
     "execution_count": 15,
     "metadata": {},
     "output_type": "execute_result"
    }
   ],
   "source": [
    "models"
   ]
  },
  {
   "cell_type": "markdown",
   "metadata": {},
   "source": [
    "# Results"
   ]
  },
  {
   "cell_type": "markdown",
   "metadata": {},
   "source": [
    "### Top Models"
   ]
  },
  {
   "cell_type": "code",
   "execution_count": 16,
   "metadata": {},
   "outputs": [
    {
     "name": "stdout",
     "output_type": "stream",
     "text": [
      "TOP 1:\n",
      "    quantization error: 0.19662808047555616\n",
      "    topographic error: 0.7942708333333334\n",
      "    map size (NxN): 32\n",
      "    sigma: 10\n",
      "    learning_rate: 1\n",
      "\n",
      "TOP 2:\n",
      "    quantization error: 0.1278933878216695\n",
      "    topographic error: 0.9153645833333334\n",
      "    map size (NxN): 32\n",
      "    sigma: 5\n",
      "    learning_rate: 1\n",
      "\n",
      "TOP 3:\n",
      "    quantization error: 0.18801497930909408\n",
      "    topographic error: 0.9361979166666666\n",
      "    map size (NxN): 32\n",
      "    sigma: 10\n",
      "    learning_rate: 0.1\n",
      "\n",
      "TOP 4:\n",
      "    quantization error: 0.12601367357851964\n",
      "    topographic error: 0.9700520833333334\n",
      "    map size (NxN): 32\n",
      "    sigma: 3\n",
      "    learning_rate: 1\n",
      "\n",
      "TOP 5:\n",
      "    quantization error: 0.22120755768210568\n",
      "    topographic error: 0.9817708333333334\n",
      "    map size (NxN): 32\n",
      "    sigma: 5\n",
      "    learning_rate: 0.01\n",
      "\n",
      "TOP 6:\n",
      "    quantization error: 0.17028070892851954\n",
      "    topographic error: 0.984375\n",
      "    map size (NxN): 32\n",
      "    sigma: 3\n",
      "    learning_rate: 0.1\n",
      "\n",
      "TOP 7:\n",
      "    quantization error: 0.2240584005584438\n",
      "    topographic error: 0.9856770833333334\n",
      "    map size (NxN): 32\n",
      "    sigma: 3\n",
      "    learning_rate: 0.01\n",
      "\n",
      "TOP 8:\n",
      "    quantization error: 0.2710467677436538\n",
      "    topographic error: 0.9856770833333334\n",
      "    map size (NxN): 32\n",
      "    sigma: 1\n",
      "    learning_rate: 1\n",
      "\n",
      "TOP 9:\n",
      "    quantization error: 0.3274607595189732\n",
      "    topographic error: 0.9856770833333334\n",
      "    map size (NxN): 32\n",
      "    sigma: 1\n",
      "    learning_rate: 0.1\n",
      "\n",
      "TOP 10:\n",
      "    quantization error: 0.3550656759262299\n",
      "    topographic error: 0.9856770833333334\n",
      "    map size (NxN): 32\n",
      "    sigma: 1\n",
      "    learning_rate: 0.01\n",
      "\n",
      "TOP 11:\n",
      "    quantization error: 0.15860306027066642\n",
      "    topographic error: 0.9973958333333334\n",
      "    map size (NxN): 32\n",
      "    sigma: 5\n",
      "    learning_rate: 0.1\n",
      "\n",
      "TOP 12:\n",
      "    quantization error: nan\n",
      "    topographic error: 1.0\n",
      "    map size (NxN): 32\n",
      "    sigma: 10\n",
      "    learning_rate: 5\n",
      "\n",
      "TOP 13:\n",
      "    quantization error: 0.23111733669923065\n",
      "    topographic error: 1.0\n",
      "    map size (NxN): 32\n",
      "    sigma: 10\n",
      "    learning_rate: 0.01\n",
      "\n",
      "TOP 14:\n",
      "    quantization error: 0.7833031198716346\n",
      "    topographic error: 1.0\n",
      "    map size (NxN): 32\n",
      "    sigma: 5\n",
      "    learning_rate: 5\n",
      "\n",
      "TOP 15:\n",
      "    quantization error: 0.9858500663707851\n",
      "    topographic error: 1.0\n",
      "    map size (NxN): 32\n",
      "    sigma: 3\n",
      "    learning_rate: 5\n",
      "\n",
      "TOP 16:\n",
      "    quantization error: 1.320358443277201\n",
      "    topographic error: 1.0\n",
      "    map size (NxN): 32\n",
      "    sigma: 1\n",
      "    learning_rate: 5\n",
      "\n"
     ]
    }
   ],
   "source": [
    "# Sorting models by topographic_error\n",
    "for i, model in enumerate(sorted(models, key=lambda d: d['topographic_error'], reverse=False)):\n",
    "    print(\"TOP {}:\".format(i + 1))\n",
    "    print(\"    quantization error: {}\".format(model[\"quantization_error\"]))\n",
    "    print(\"    topographic error: {}\".format(model[\"topographic_error\"]))\n",
    "    print(\"    map size (NxN): {}\".format(model[\"size\"]))\n",
    "    print(\"    sigma: {}\".format(model[\"sigma\"]))\n",
    "    print(\"    learning_rate: {}\".format(model[\"learning_rate\"]))\n",
    "    print()"
   ]
  },
  {
   "cell_type": "markdown",
   "metadata": {},
   "source": [
    "# Analysis (using the Top 1 model)"
   ]
  },
  {
   "cell_type": "code",
   "execution_count": 32,
   "metadata": {},
   "outputs": [],
   "source": [
    "model = [model for model in models if model[\"sigma\"] == 10 and model[\"learning_rate\"] == 1][0]"
   ]
  },
  {
   "cell_type": "code",
   "execution_count": 33,
   "metadata": {},
   "outputs": [
    {
     "data": {
      "text/plain": [
       "{'model': <minisom.MiniSom at 0x7fd4802fc1d0>,\n",
       " 'size': 32,\n",
       " 'input_len': 8,\n",
       " 'sigma': 10,\n",
       " 'learning_rate': 1,\n",
       " 'quantization_error': 0.19662808047555616,\n",
       " 'topographic_error': 0.7942708333333334}"
      ]
     },
     "execution_count": 33,
     "metadata": {},
     "output_type": "execute_result"
    }
   ],
   "source": [
    "model"
   ]
  },
  {
   "cell_type": "markdown",
   "metadata": {},
   "source": [
    "## U-Matrix"
   ]
  },
  {
   "cell_type": "code",
   "execution_count": 34,
   "metadata": {},
   "outputs": [
    {
     "data": {
      "text/plain": [
       "<matplotlib.colorbar.Colorbar at 0x7fd43e3b3e90>"
      ]
     },
     "execution_count": 34,
     "metadata": {},
     "output_type": "execute_result"
    },
    {
     "data": {
      "image/png": "[encoded data removed]",
      "text/plain": [
       "<Figure size 720x720 with 2 Axes>"
      ]
     },
     "metadata": {
      "needs_background": "light"
     },
     "output_type": "display_data"
    }
   ],
   "source": [
    "plt.figure(figsize=(10, 10))\n",
    "# Plotting the response for each pattern in the iris dataset\n",
    "plt.pcolor(model['model'].distance_map().T, cmap='gray')  # plotting the distance map as background\n",
    "plt.colorbar()"
   ]
  },
  {
   "cell_type": "markdown",
   "metadata": {},
   "source": [
    "Gray scale represent the calculated distances (normalized between 0 and 1). Black nodes represents nodes very close to its neighbors, and the white ones are nodes with a avg distance between its neighbors very high."
   ]
  },
  {
   "cell_type": "markdown",
   "metadata": {},
   "source": [
    "## U-Matrix with the classes plotted"
   ]
  },
  {
   "cell_type": "code",
   "execution_count": 35,
   "metadata": {},
   "outputs": [
    {
     "data": {
      "image/png": "[encoded data removed]",
      "text/plain": [
       "<Figure size 720x720 with 2 Axes>"
      ]
     },
     "metadata": {
      "needs_background": "light"
     },
     "output_type": "display_data"
    }
   ],
   "source": [
    "plt.figure(figsize=(10, 10))\n",
    "plt.pcolor(model['model'].distance_map().T, cmap='gray')\n",
    "plt.colorbar()\n",
    "\n",
    "target_values = output_df.values\n",
    "markers = ['o', 's']\n",
    "colors = ['C0', 'C1']\n",
    "for cnt, xx in enumerate(input_data):\n",
    "    w = model['model'].winner(xx)  # getting the winner\n",
    "    plt.plot(w[0]+.5, w[1]+.5, markers[target_values[cnt]], markerfacecolor='None',\n",
    "             markeredgecolor=colors[target_values[cnt]], markersize=12, markeredgewidth=2)\n",
    "plt.axis([0, 32, 0, 32])\n",
    "plt.show()"
   ]
  },
  {
   "cell_type": "markdown",
   "metadata": {},
   "source": [
    "From all the 3 datasets testing the SOM this os the one that the classes were less clearly separated. We can see that in the center diagonal there are more concentration of the class represented as orange color and the blue class in the extremities."
   ]
  },
  {
   "cell_type": "markdown",
   "metadata": {},
   "source": [
    "# Hit Map"
   ]
  },
  {
   "cell_type": "code",
   "execution_count": 36,
   "metadata": {},
   "outputs": [
    {
     "data": {
      "image/png": "[encoded data removed]",
      "text/plain": [
       "<Figure size 720x720 with 2 Axes>"
      ]
     },
     "metadata": {
      "needs_background": "light"
     },
     "output_type": "display_data"
    }
   ],
   "source": [
    "plt.figure(figsize=(10, 10))\n",
    "frequencies = model['model'].activation_response(input_data)\n",
    "plt.pcolor(frequencies.T, cmap='gray') \n",
    "plt.colorbar()\n",
    "plt.show()"
   ]
  }
 ],
 "metadata": {
  "kernelspec": {
   "display_name": "Python 3",
   "language": "python",
   "name": "python3"
  },
  "language_info": {
   "codemirror_mode": {
    "name": "ipython",
    "version": 3
   },
   "file_extension": ".py",
   "mimetype": "text/x-python",
   "name": "python",
   "nbconvert_exporter": "python",
   "pygments_lexer": "ipython3",
   "version": "3.7.5"
  }
 },
 "nbformat": 4,
 "nbformat_minor": 2
}
