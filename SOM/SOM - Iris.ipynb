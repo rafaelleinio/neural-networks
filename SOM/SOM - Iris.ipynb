{
 "cells": [
  {
   "cell_type": "markdown",
   "metadata": {},
   "source": [
    "## libs"
   ]
  },
  {
   "cell_type": "code",
   "execution_count": 1,
   "metadata": {},
   "outputs": [],
   "source": [
    "# python utils\n",
    "import itertools\n",
    "import inspect\n",
    "\n",
    "# pre-processing and exploring data\n",
    "import numpy as np\n",
    "import pandas as pd\n",
    "import matplotlib.pyplot as plt\n",
    "\n",
    "# model building\n",
    "from minisom import MiniSom "
   ]
  },
  {
   "cell_type": "markdown",
   "metadata": {},
   "source": [
    "## Import Data"
   ]
  },
  {
   "cell_type": "code",
   "execution_count": 40,
   "metadata": {},
   "outputs": [
    {
     "data": {
      "text/html": [
       "<div>\n",
       "<style scoped>\n",
       "    .dataframe tbody tr th:only-of-type {\n",
       "        vertical-align: middle;\n",
       "    }\n",
       "\n",
       "    .dataframe tbody tr th {\n",
       "        vertical-align: top;\n",
       "    }\n",
       "\n",
       "    .dataframe thead th {\n",
       "        text-align: right;\n",
       "    }\n",
       "</style>\n",
       "<table border=\"1\" class=\"dataframe\">\n",
       "  <thead>\n",
       "    <tr style=\"text-align: right;\">\n",
       "      <th></th>\n",
       "      <th>sepal_length</th>\n",
       "      <th>sepal_width</th>\n",
       "      <th>petal_length</th>\n",
       "      <th>petal_width</th>\n",
       "      <th>class</th>\n",
       "    </tr>\n",
       "  </thead>\n",
       "  <tbody>\n",
       "    <tr>\n",
       "      <th>0</th>\n",
       "      <td>4.9</td>\n",
       "      <td>3.0</td>\n",
       "      <td>1.4</td>\n",
       "      <td>0.2</td>\n",
       "      <td>Iris-setosa</td>\n",
       "    </tr>\n",
       "    <tr>\n",
       "      <th>1</th>\n",
       "      <td>4.7</td>\n",
       "      <td>3.2</td>\n",
       "      <td>1.3</td>\n",
       "      <td>0.2</td>\n",
       "      <td>Iris-setosa</td>\n",
       "    </tr>\n",
       "    <tr>\n",
       "      <th>2</th>\n",
       "      <td>4.6</td>\n",
       "      <td>3.1</td>\n",
       "      <td>1.5</td>\n",
       "      <td>0.2</td>\n",
       "      <td>Iris-setosa</td>\n",
       "    </tr>\n",
       "    <tr>\n",
       "      <th>3</th>\n",
       "      <td>5.0</td>\n",
       "      <td>3.6</td>\n",
       "      <td>1.4</td>\n",
       "      <td>0.2</td>\n",
       "      <td>Iris-setosa</td>\n",
       "    </tr>\n",
       "    <tr>\n",
       "      <th>4</th>\n",
       "      <td>5.4</td>\n",
       "      <td>3.9</td>\n",
       "      <td>1.7</td>\n",
       "      <td>0.4</td>\n",
       "      <td>Iris-setosa</td>\n",
       "    </tr>\n",
       "  </tbody>\n",
       "</table>\n",
       "</div>"
      ],
      "text/plain": [
       "   sepal_length  sepal_width  petal_length  petal_width        class\n",
       "0           4.9          3.0           1.4          0.2  Iris-setosa\n",
       "1           4.7          3.2           1.3          0.2  Iris-setosa\n",
       "2           4.6          3.1           1.5          0.2  Iris-setosa\n",
       "3           5.0          3.6           1.4          0.2  Iris-setosa\n",
       "4           5.4          3.9           1.7          0.4  Iris-setosa"
      ]
     },
     "execution_count": 40,
     "metadata": {},
     "output_type": "execute_result"
    }
   ],
   "source": [
    "column_names = [\n",
    "        'sepal_length', \n",
    "        'sepal_width',\n",
    "        'petal_length', \n",
    "        'petal_width', \n",
    "        'class'\n",
    "        ]\n",
    "\n",
    "df = pd.read_csv('../datasets/iris.csv', names=column_names, header=0)\n",
    "df.head()"
   ]
  },
  {
   "cell_type": "markdown",
   "metadata": {},
   "source": [
    "## Preprocessing Data"
   ]
  },
  {
   "cell_type": "code",
   "execution_count": 44,
   "metadata": {},
   "outputs": [
    {
     "data": {
      "text/plain": [
       "sepal_length     float64\n",
       "sepal_width      float64\n",
       "petal_length     float64\n",
       "petal_width      float64\n",
       "class           category\n",
       "dtype: object"
      ]
     },
     "execution_count": 44,
     "metadata": {},
     "output_type": "execute_result"
    }
   ],
   "source": [
    "df['class'] = df['class'].factorize()[0]\n",
    "df['class'] = df['class'].astype(\"category\")\n",
    "df.dtypes"
   ]
  },
  {
   "cell_type": "code",
   "execution_count": 45,
   "metadata": {},
   "outputs": [],
   "source": [
    "# split in input and output sets\n",
    "input_df = df.drop(\"class\", axis=1)\n",
    "output_df = df[\"class\"]"
   ]
  },
  {
   "cell_type": "code",
   "execution_count": 5,
   "metadata": {},
   "outputs": [
    {
     "data": {
      "text/html": [
       "<div>\n",
       "<style scoped>\n",
       "    .dataframe tbody tr th:only-of-type {\n",
       "        vertical-align: middle;\n",
       "    }\n",
       "\n",
       "    .dataframe tbody tr th {\n",
       "        vertical-align: top;\n",
       "    }\n",
       "\n",
       "    .dataframe thead th {\n",
       "        text-align: right;\n",
       "    }\n",
       "</style>\n",
       "<table border=\"1\" class=\"dataframe\">\n",
       "  <thead>\n",
       "    <tr style=\"text-align: right;\">\n",
       "      <th></th>\n",
       "      <th>sepal_length</th>\n",
       "      <th>sepal_width</th>\n",
       "      <th>petal_length</th>\n",
       "      <th>petal_width</th>\n",
       "    </tr>\n",
       "  </thead>\n",
       "  <tbody>\n",
       "    <tr>\n",
       "      <th>0</th>\n",
       "      <td>0.166667</td>\n",
       "      <td>0.416667</td>\n",
       "      <td>0.067797</td>\n",
       "      <td>0.041667</td>\n",
       "    </tr>\n",
       "    <tr>\n",
       "      <th>1</th>\n",
       "      <td>0.111111</td>\n",
       "      <td>0.500000</td>\n",
       "      <td>0.050847</td>\n",
       "      <td>0.041667</td>\n",
       "    </tr>\n",
       "    <tr>\n",
       "      <th>2</th>\n",
       "      <td>0.083333</td>\n",
       "      <td>0.458333</td>\n",
       "      <td>0.084746</td>\n",
       "      <td>0.041667</td>\n",
       "    </tr>\n",
       "    <tr>\n",
       "      <th>3</th>\n",
       "      <td>0.194444</td>\n",
       "      <td>0.666667</td>\n",
       "      <td>0.067797</td>\n",
       "      <td>0.041667</td>\n",
       "    </tr>\n",
       "    <tr>\n",
       "      <th>4</th>\n",
       "      <td>0.305556</td>\n",
       "      <td>0.791667</td>\n",
       "      <td>0.118644</td>\n",
       "      <td>0.125000</td>\n",
       "    </tr>\n",
       "  </tbody>\n",
       "</table>\n",
       "</div>"
      ],
      "text/plain": [
       "   sepal_length  sepal_width  petal_length  petal_width\n",
       "0      0.166667     0.416667      0.067797     0.041667\n",
       "1      0.111111     0.500000      0.050847     0.041667\n",
       "2      0.083333     0.458333      0.084746     0.041667\n",
       "3      0.194444     0.666667      0.067797     0.041667\n",
       "4      0.305556     0.791667      0.118644     0.125000"
      ]
     },
     "execution_count": 5,
     "metadata": {},
     "output_type": "execute_result"
    }
   ],
   "source": [
    "# normalizing values of input df between 0 and 1 (per column)\n",
    "def normalize(df):\n",
    "    result = df.copy()\n",
    "    for feature_name in df.columns:\n",
    "        max_value = df[feature_name].max()\n",
    "        min_value = df[feature_name].min()\n",
    "        result[feature_name] = (df[feature_name] - min_value) / (max_value - min_value)\n",
    "    return result\n",
    "\n",
    "input_df = normalize(input_df)\n",
    "input_df.head()"
   ]
  },
  {
   "cell_type": "code",
   "execution_count": 6,
   "metadata": {
    "scrolled": true
   },
   "outputs": [
    {
     "data": {
      "text/plain": [
       "array([[0.16666667, 0.41666667, 0.06779661, 0.04166667],\n",
       "       [0.11111111, 0.5       , 0.05084746, 0.04166667],\n",
       "       [0.08333333, 0.45833333, 0.08474576, 0.04166667],\n",
       "       [0.19444444, 0.66666667, 0.06779661, 0.04166667],\n",
       "       [0.30555556, 0.79166667, 0.11864407, 0.125     ],\n",
       "       [0.08333333, 0.58333333, 0.06779661, 0.08333333],\n",
       "       [0.19444444, 0.58333333, 0.08474576, 0.04166667],\n",
       "       [0.02777778, 0.375     , 0.06779661, 0.04166667],\n",
       "       [0.16666667, 0.45833333, 0.08474576, 0.        ],\n",
       "       [0.30555556, 0.70833333, 0.08474576, 0.04166667],\n",
       "       [0.13888889, 0.58333333, 0.10169492, 0.04166667],\n",
       "       [0.13888889, 0.41666667, 0.06779661, 0.        ],\n",
       "       [0.        , 0.41666667, 0.01694915, 0.        ],\n",
       "       [0.41666667, 0.83333333, 0.03389831, 0.04166667],\n",
       "       [0.38888889, 1.        , 0.08474576, 0.125     ],\n",
       "       [0.30555556, 0.79166667, 0.05084746, 0.125     ],\n",
       "       [0.22222222, 0.625     , 0.06779661, 0.08333333],\n",
       "       [0.38888889, 0.75      , 0.11864407, 0.08333333],\n",
       "       [0.22222222, 0.75      , 0.08474576, 0.08333333],\n",
       "       [0.30555556, 0.58333333, 0.11864407, 0.04166667],\n",
       "       [0.22222222, 0.70833333, 0.08474576, 0.125     ],\n",
       "       [0.08333333, 0.66666667, 0.        , 0.04166667],\n",
       "       [0.22222222, 0.54166667, 0.11864407, 0.16666667],\n",
       "       [0.13888889, 0.58333333, 0.15254237, 0.04166667],\n",
       "       [0.19444444, 0.41666667, 0.10169492, 0.04166667],\n",
       "       [0.19444444, 0.58333333, 0.10169492, 0.125     ],\n",
       "       [0.25      , 0.625     , 0.08474576, 0.04166667],\n",
       "       [0.25      , 0.58333333, 0.06779661, 0.04166667],\n",
       "       [0.11111111, 0.5       , 0.10169492, 0.04166667],\n",
       "       [0.13888889, 0.45833333, 0.10169492, 0.04166667],\n",
       "       [0.30555556, 0.58333333, 0.08474576, 0.125     ],\n",
       "       [0.25      , 0.875     , 0.08474576, 0.        ],\n",
       "       [0.33333333, 0.91666667, 0.06779661, 0.04166667],\n",
       "       [0.16666667, 0.45833333, 0.08474576, 0.        ],\n",
       "       [0.19444444, 0.5       , 0.03389831, 0.04166667],\n",
       "       [0.33333333, 0.625     , 0.05084746, 0.04166667],\n",
       "       [0.16666667, 0.45833333, 0.08474576, 0.        ],\n",
       "       [0.02777778, 0.41666667, 0.05084746, 0.04166667],\n",
       "       [0.22222222, 0.58333333, 0.08474576, 0.04166667],\n",
       "       [0.19444444, 0.625     , 0.05084746, 0.08333333],\n",
       "       [0.05555556, 0.125     , 0.05084746, 0.08333333],\n",
       "       [0.02777778, 0.5       , 0.05084746, 0.04166667],\n",
       "       [0.19444444, 0.625     , 0.10169492, 0.20833333],\n",
       "       [0.22222222, 0.75      , 0.15254237, 0.125     ],\n",
       "       [0.13888889, 0.41666667, 0.06779661, 0.08333333],\n",
       "       [0.22222222, 0.75      , 0.10169492, 0.04166667],\n",
       "       [0.08333333, 0.5       , 0.06779661, 0.04166667],\n",
       "       [0.27777778, 0.70833333, 0.08474576, 0.04166667],\n",
       "       [0.19444444, 0.54166667, 0.06779661, 0.04166667],\n",
       "       [0.75      , 0.5       , 0.62711864, 0.54166667],\n",
       "       [0.58333333, 0.5       , 0.59322034, 0.58333333],\n",
       "       [0.72222222, 0.45833333, 0.66101695, 0.58333333],\n",
       "       [0.33333333, 0.125     , 0.50847458, 0.5       ],\n",
       "       [0.61111111, 0.33333333, 0.61016949, 0.58333333],\n",
       "       [0.38888889, 0.33333333, 0.59322034, 0.5       ],\n",
       "       [0.55555556, 0.54166667, 0.62711864, 0.625     ],\n",
       "       [0.16666667, 0.16666667, 0.38983051, 0.375     ],\n",
       "       [0.63888889, 0.375     , 0.61016949, 0.5       ],\n",
       "       [0.25      , 0.29166667, 0.49152542, 0.54166667],\n",
       "       [0.19444444, 0.        , 0.42372881, 0.375     ],\n",
       "       [0.44444444, 0.41666667, 0.54237288, 0.58333333],\n",
       "       [0.47222222, 0.08333333, 0.50847458, 0.375     ],\n",
       "       [0.5       , 0.375     , 0.62711864, 0.54166667],\n",
       "       [0.36111111, 0.375     , 0.44067797, 0.5       ],\n",
       "       [0.66666667, 0.45833333, 0.57627119, 0.54166667],\n",
       "       [0.36111111, 0.41666667, 0.59322034, 0.58333333],\n",
       "       [0.41666667, 0.29166667, 0.52542373, 0.375     ],\n",
       "       [0.52777778, 0.08333333, 0.59322034, 0.58333333],\n",
       "       [0.36111111, 0.20833333, 0.49152542, 0.41666667],\n",
       "       [0.44444444, 0.5       , 0.6440678 , 0.70833333],\n",
       "       [0.5       , 0.33333333, 0.50847458, 0.5       ],\n",
       "       [0.55555556, 0.20833333, 0.66101695, 0.58333333],\n",
       "       [0.5       , 0.33333333, 0.62711864, 0.45833333],\n",
       "       [0.58333333, 0.375     , 0.55932203, 0.5       ],\n",
       "       [0.63888889, 0.41666667, 0.57627119, 0.54166667],\n",
       "       [0.69444444, 0.33333333, 0.6440678 , 0.54166667],\n",
       "       [0.66666667, 0.41666667, 0.6779661 , 0.66666667],\n",
       "       [0.47222222, 0.375     , 0.59322034, 0.58333333],\n",
       "       [0.38888889, 0.25      , 0.42372881, 0.375     ],\n",
       "       [0.33333333, 0.16666667, 0.47457627, 0.41666667],\n",
       "       [0.33333333, 0.16666667, 0.45762712, 0.375     ],\n",
       "       [0.41666667, 0.29166667, 0.49152542, 0.45833333],\n",
       "       [0.47222222, 0.29166667, 0.69491525, 0.625     ],\n",
       "       [0.30555556, 0.41666667, 0.59322034, 0.58333333],\n",
       "       [0.47222222, 0.58333333, 0.59322034, 0.625     ],\n",
       "       [0.66666667, 0.45833333, 0.62711864, 0.58333333],\n",
       "       [0.55555556, 0.125     , 0.57627119, 0.5       ],\n",
       "       [0.36111111, 0.41666667, 0.52542373, 0.5       ],\n",
       "       [0.33333333, 0.20833333, 0.50847458, 0.5       ],\n",
       "       [0.33333333, 0.25      , 0.57627119, 0.45833333],\n",
       "       [0.5       , 0.41666667, 0.61016949, 0.54166667],\n",
       "       [0.41666667, 0.25      , 0.50847458, 0.45833333],\n",
       "       [0.19444444, 0.125     , 0.38983051, 0.375     ],\n",
       "       [0.36111111, 0.29166667, 0.54237288, 0.5       ],\n",
       "       [0.38888889, 0.41666667, 0.54237288, 0.45833333],\n",
       "       [0.38888889, 0.375     , 0.54237288, 0.5       ],\n",
       "       [0.52777778, 0.375     , 0.55932203, 0.5       ],\n",
       "       [0.22222222, 0.20833333, 0.33898305, 0.41666667],\n",
       "       [0.38888889, 0.33333333, 0.52542373, 0.5       ],\n",
       "       [0.55555556, 0.54166667, 0.84745763, 1.        ],\n",
       "       [0.41666667, 0.29166667, 0.69491525, 0.75      ],\n",
       "       [0.77777778, 0.41666667, 0.83050847, 0.83333333],\n",
       "       [0.55555556, 0.375     , 0.77966102, 0.70833333],\n",
       "       [0.61111111, 0.41666667, 0.81355932, 0.875     ],\n",
       "       [0.91666667, 0.41666667, 0.94915254, 0.83333333],\n",
       "       [0.16666667, 0.20833333, 0.59322034, 0.66666667],\n",
       "       [0.83333333, 0.375     , 0.89830508, 0.70833333],\n",
       "       [0.66666667, 0.20833333, 0.81355932, 0.70833333],\n",
       "       [0.80555556, 0.66666667, 0.86440678, 1.        ],\n",
       "       [0.61111111, 0.5       , 0.69491525, 0.79166667],\n",
       "       [0.58333333, 0.29166667, 0.72881356, 0.75      ],\n",
       "       [0.69444444, 0.41666667, 0.76271186, 0.83333333],\n",
       "       [0.38888889, 0.20833333, 0.6779661 , 0.79166667],\n",
       "       [0.41666667, 0.33333333, 0.69491525, 0.95833333],\n",
       "       [0.58333333, 0.5       , 0.72881356, 0.91666667],\n",
       "       [0.61111111, 0.41666667, 0.76271186, 0.70833333],\n",
       "       [0.94444444, 0.75      , 0.96610169, 0.875     ],\n",
       "       [0.94444444, 0.25      , 1.        , 0.91666667],\n",
       "       [0.47222222, 0.08333333, 0.6779661 , 0.58333333],\n",
       "       [0.72222222, 0.5       , 0.79661017, 0.91666667],\n",
       "       [0.36111111, 0.33333333, 0.66101695, 0.79166667],\n",
       "       [0.94444444, 0.33333333, 0.96610169, 0.79166667],\n",
       "       [0.55555556, 0.29166667, 0.66101695, 0.70833333],\n",
       "       [0.66666667, 0.54166667, 0.79661017, 0.83333333],\n",
       "       [0.80555556, 0.5       , 0.84745763, 0.70833333],\n",
       "       [0.52777778, 0.33333333, 0.6440678 , 0.70833333],\n",
       "       [0.5       , 0.41666667, 0.66101695, 0.70833333],\n",
       "       [0.58333333, 0.33333333, 0.77966102, 0.83333333],\n",
       "       [0.80555556, 0.41666667, 0.81355932, 0.625     ],\n",
       "       [0.86111111, 0.33333333, 0.86440678, 0.75      ],\n",
       "       [1.        , 0.75      , 0.91525424, 0.79166667],\n",
       "       [0.58333333, 0.33333333, 0.77966102, 0.875     ],\n",
       "       [0.55555556, 0.33333333, 0.69491525, 0.58333333],\n",
       "       [0.5       , 0.25      , 0.77966102, 0.54166667],\n",
       "       [0.94444444, 0.41666667, 0.86440678, 0.91666667],\n",
       "       [0.55555556, 0.58333333, 0.77966102, 0.95833333],\n",
       "       [0.58333333, 0.45833333, 0.76271186, 0.70833333],\n",
       "       [0.47222222, 0.41666667, 0.6440678 , 0.70833333],\n",
       "       [0.72222222, 0.45833333, 0.74576271, 0.83333333],\n",
       "       [0.66666667, 0.45833333, 0.77966102, 0.95833333],\n",
       "       [0.72222222, 0.45833333, 0.69491525, 0.91666667],\n",
       "       [0.41666667, 0.29166667, 0.69491525, 0.75      ],\n",
       "       [0.69444444, 0.5       , 0.83050847, 0.91666667],\n",
       "       [0.66666667, 0.54166667, 0.79661017, 1.        ],\n",
       "       [0.66666667, 0.41666667, 0.71186441, 0.91666667],\n",
       "       [0.55555556, 0.20833333, 0.6779661 , 0.75      ],\n",
       "       [0.61111111, 0.41666667, 0.71186441, 0.79166667],\n",
       "       [0.52777778, 0.58333333, 0.74576271, 0.91666667],\n",
       "       [0.44444444, 0.41666667, 0.69491525, 0.70833333]])"
      ]
     },
     "execution_count": 6,
     "metadata": {},
     "output_type": "execute_result"
    }
   ],
   "source": [
    "# minsisom lib expects input_data as numpy matrix not pandas, converting...\n",
    "input_data = input_df.values\n",
    "input_data"
   ]
  },
  {
   "cell_type": "markdown",
   "metadata": {},
   "source": [
    "## Model builder"
   ]
  },
  {
   "cell_type": "code",
   "execution_count": 27,
   "metadata": {},
   "outputs": [],
   "source": [
    "def build_som_model(size, input_len, sigma, learning_rate):\n",
    "    return MiniSom(size, size, input_len, sigma=sigma, learning_rate=learning_rate, \n",
    "                   neighborhood_function='bubble', random_seed=10)\n",
    "\n",
    "def build_models(builder_method, *args_tests):\n",
    "    \"\"\"\n",
    "    Build models with all the combinations of the args_test passed\n",
    "    \"\"\"\n",
    "    builder_args_names = list(inspect.signature(builder_method).parameters.keys())\n",
    "    return [\n",
    "        dict(((\"model\", builder_method(*args)),) + tuple(zip(builder_args_names, args)))\n",
    "        for args in itertools.product(*args_tests)\n",
    "    ]"
   ]
  },
  {
   "cell_type": "markdown",
   "metadata": {},
   "source": [
    "## Models Definition"
   ]
  },
  {
   "cell_type": "code",
   "execution_count": 28,
   "metadata": {},
   "outputs": [],
   "source": [
    "# Parameters definition\n",
    "\n",
    "# fixed\n",
    "input_len = [4]\n",
    "size_tests = [32]\n",
    "\n",
    "# tests\n",
    "sigma_tests = [10, 5, 3, 1]\n",
    "learning_rate_tests = [5, 1, 0.1, 0.01]"
   ]
  },
  {
   "cell_type": "code",
   "execution_count": 29,
   "metadata": {
    "scrolled": true
   },
   "outputs": [
    {
     "data": {
      "text/plain": [
       "[{'model': <minisom.MiniSom at 0x7fc31fd82c90>,\n",
       "  'size': 32,\n",
       "  'input_len': 4,\n",
       "  'sigma': 10,\n",
       "  'learning_rate': 5},\n",
       " {'model': <minisom.MiniSom at 0x7fc31fd82850>,\n",
       "  'size': 32,\n",
       "  'input_len': 4,\n",
       "  'sigma': 10,\n",
       "  'learning_rate': 1},\n",
       " {'model': <minisom.MiniSom at 0x7fc31fd82750>,\n",
       "  'size': 32,\n",
       "  'input_len': 4,\n",
       "  'sigma': 10,\n",
       "  'learning_rate': 0.1},\n",
       " {'model': <minisom.MiniSom at 0x7fc31fd82150>,\n",
       "  'size': 32,\n",
       "  'input_len': 4,\n",
       "  'sigma': 10,\n",
       "  'learning_rate': 0.01},\n",
       " {'model': <minisom.MiniSom at 0x7fc31fd82cd0>,\n",
       "  'size': 32,\n",
       "  'input_len': 4,\n",
       "  'sigma': 5,\n",
       "  'learning_rate': 5},\n",
       " {'model': <minisom.MiniSom at 0x7fc31fd82810>,\n",
       "  'size': 32,\n",
       "  'input_len': 4,\n",
       "  'sigma': 5,\n",
       "  'learning_rate': 1},\n",
       " {'model': <minisom.MiniSom at 0x7fc31fd82e50>,\n",
       "  'size': 32,\n",
       "  'input_len': 4,\n",
       "  'sigma': 5,\n",
       "  'learning_rate': 0.1},\n",
       " {'model': <minisom.MiniSom at 0x7fc31fd82910>,\n",
       "  'size': 32,\n",
       "  'input_len': 4,\n",
       "  'sigma': 5,\n",
       "  'learning_rate': 0.01},\n",
       " {'model': <minisom.MiniSom at 0x7fc31fd82290>,\n",
       "  'size': 32,\n",
       "  'input_len': 4,\n",
       "  'sigma': 3,\n",
       "  'learning_rate': 5},\n",
       " {'model': <minisom.MiniSom at 0x7fc31fd82650>,\n",
       "  'size': 32,\n",
       "  'input_len': 4,\n",
       "  'sigma': 3,\n",
       "  'learning_rate': 1},\n",
       " {'model': <minisom.MiniSom at 0x7fc31fde9210>,\n",
       "  'size': 32,\n",
       "  'input_len': 4,\n",
       "  'sigma': 3,\n",
       "  'learning_rate': 0.1},\n",
       " {'model': <minisom.MiniSom at 0x7fc31fde1ed0>,\n",
       "  'size': 32,\n",
       "  'input_len': 4,\n",
       "  'sigma': 3,\n",
       "  'learning_rate': 0.01},\n",
       " {'model': <minisom.MiniSom at 0x7fc322860c90>,\n",
       "  'size': 32,\n",
       "  'input_len': 4,\n",
       "  'sigma': 1,\n",
       "  'learning_rate': 5},\n",
       " {'model': <minisom.MiniSom at 0x7fc31fdf7910>,\n",
       "  'size': 32,\n",
       "  'input_len': 4,\n",
       "  'sigma': 1,\n",
       "  'learning_rate': 1},\n",
       " {'model': <minisom.MiniSom at 0x7fc31fdf7a50>,\n",
       "  'size': 32,\n",
       "  'input_len': 4,\n",
       "  'sigma': 1,\n",
       "  'learning_rate': 0.1},\n",
       " {'model': <minisom.MiniSom at 0x7fc31fdf78d0>,\n",
       "  'size': 32,\n",
       "  'input_len': 4,\n",
       "  'sigma': 1,\n",
       "  'learning_rate': 0.01}]"
      ]
     },
     "execution_count": 29,
     "metadata": {},
     "output_type": "execute_result"
    }
   ],
   "source": [
    "# building models with all the combinations of the test parameters\n",
    "models = build_models(\n",
    "    build_som_model,\n",
    "    size_tests,\n",
    "    input_len,\n",
    "    sigma_tests,\n",
    "    learning_rate_tests,\n",
    ")\n",
    "models"
   ]
  },
  {
   "cell_type": "markdown",
   "metadata": {},
   "source": [
    "## Models Training"
   ]
  },
  {
   "cell_type": "code",
   "execution_count": 30,
   "metadata": {},
   "outputs": [],
   "source": [
    "for model in models:\n",
    "    model['model'].pca_weights_init(input_data)\n",
    "    model['model'].train_batch(input_data, 10000, verbose=False)\n",
    "    model['quantization_error'] = model['model'].quantization_error(input_data)\n",
    "    model['topographic_error'] = model['model'].topographic_error(input_data)"
   ]
  },
  {
   "cell_type": "code",
   "execution_count": 31,
   "metadata": {},
   "outputs": [
    {
     "data": {
      "text/plain": [
       "[{'model': <minisom.MiniSom at 0x7fc31fd82c90>,\n",
       "  'size': 32,\n",
       "  'input_len': 4,\n",
       "  'sigma': 10,\n",
       "  'learning_rate': 5,\n",
       "  'quantization_error': nan,\n",
       "  'topographic_error': 1.0},\n",
       " {'model': <minisom.MiniSom at 0x7fc31fd82850>,\n",
       "  'size': 32,\n",
       "  'input_len': 4,\n",
       "  'sigma': 10,\n",
       "  'learning_rate': 1,\n",
       "  'quantization_error': 0.04872708403156791,\n",
       "  'topographic_error': 0.020134228187919462},\n",
       " {'model': <minisom.MiniSom at 0x7fc31fd82750>,\n",
       "  'size': 32,\n",
       "  'input_len': 4,\n",
       "  'sigma': 10,\n",
       "  'learning_rate': 0.1,\n",
       "  'quantization_error': 0.04980783294237214,\n",
       "  'topographic_error': 0.9664429530201343},\n",
       " {'model': <minisom.MiniSom at 0x7fc31fd82150>,\n",
       "  'size': 32,\n",
       "  'input_len': 4,\n",
       "  'sigma': 10,\n",
       "  'learning_rate': 0.01,\n",
       "  'quantization_error': 0.07377661965090046,\n",
       "  'topographic_error': 0.9261744966442953},\n",
       " {'model': <minisom.MiniSom at 0x7fc31fd82cd0>,\n",
       "  'size': 32,\n",
       "  'input_len': 4,\n",
       "  'sigma': 5,\n",
       "  'learning_rate': 5,\n",
       "  'quantization_error': 0.5804552919739426,\n",
       "  'topographic_error': 1.0},\n",
       " {'model': <minisom.MiniSom at 0x7fc31fd82810>,\n",
       "  'size': 32,\n",
       "  'input_len': 4,\n",
       "  'sigma': 5,\n",
       "  'learning_rate': 1,\n",
       "  'quantization_error': 0.0011721343253698771,\n",
       "  'topographic_error': 0.9463087248322147},\n",
       " {'model': <minisom.MiniSom at 0x7fc31fd82e50>,\n",
       "  'size': 32,\n",
       "  'input_len': 4,\n",
       "  'sigma': 5,\n",
       "  'learning_rate': 0.1,\n",
       "  'quantization_error': 0.03087885000677546,\n",
       "  'topographic_error': 0.9798657718120806},\n",
       " {'model': <minisom.MiniSom at 0x7fc31fd82910>,\n",
       "  'size': 32,\n",
       "  'input_len': 4,\n",
       "  'sigma': 5,\n",
       "  'learning_rate': 0.01,\n",
       "  'quantization_error': 0.07042358255143456,\n",
       "  'topographic_error': 0.8523489932885906},\n",
       " {'model': <minisom.MiniSom at 0x7fc31fd82290>,\n",
       "  'size': 32,\n",
       "  'input_len': 4,\n",
       "  'sigma': 3,\n",
       "  'learning_rate': 5,\n",
       "  'quantization_error': 0.36274694301802124,\n",
       "  'topographic_error': 1.0},\n",
       " {'model': <minisom.MiniSom at 0x7fc31fd82650>,\n",
       "  'size': 32,\n",
       "  'input_len': 4,\n",
       "  'sigma': 3,\n",
       "  'learning_rate': 1,\n",
       "  'quantization_error': 0.0007491436373034187,\n",
       "  'topographic_error': 0.040268456375838924},\n",
       " {'model': <minisom.MiniSom at 0x7fc31fde9210>,\n",
       "  'size': 32,\n",
       "  'input_len': 4,\n",
       "  'sigma': 3,\n",
       "  'learning_rate': 0.1,\n",
       "  'quantization_error': 0.0401470158098263,\n",
       "  'topographic_error': 0.8523489932885906},\n",
       " {'model': <minisom.MiniSom at 0x7fc31fde1ed0>,\n",
       "  'size': 32,\n",
       "  'input_len': 4,\n",
       "  'sigma': 3,\n",
       "  'learning_rate': 0.01,\n",
       "  'quantization_error': 0.07958090883050664,\n",
       "  'topographic_error': 0.8053691275167785},\n",
       " {'model': <minisom.MiniSom at 0x7fc322860c90>,\n",
       "  'size': 32,\n",
       "  'input_len': 4,\n",
       "  'sigma': 1,\n",
       "  'learning_rate': 5,\n",
       "  'quantization_error': 0.7217112837131049,\n",
       "  'topographic_error': 1.0},\n",
       " {'model': <minisom.MiniSom at 0x7fc31fdf7910>,\n",
       "  'size': 32,\n",
       "  'input_len': 4,\n",
       "  'sigma': 1,\n",
       "  'learning_rate': 1,\n",
       "  'quantization_error': 0.14042394158466853,\n",
       "  'topographic_error': 0.8120805369127517},\n",
       " {'model': <minisom.MiniSom at 0x7fc31fdf7a50>,\n",
       "  'size': 32,\n",
       "  'input_len': 4,\n",
       "  'sigma': 1,\n",
       "  'learning_rate': 0.1,\n",
       "  'quantization_error': 0.16632730397525738,\n",
       "  'topographic_error': 0.8322147651006712},\n",
       " {'model': <minisom.MiniSom at 0x7fc31fdf78d0>,\n",
       "  'size': 32,\n",
       "  'input_len': 4,\n",
       "  'sigma': 1,\n",
       "  'learning_rate': 0.01,\n",
       "  'quantization_error': 0.16915401900916177,\n",
       "  'topographic_error': 0.8322147651006712}]"
      ]
     },
     "execution_count": 31,
     "metadata": {},
     "output_type": "execute_result"
    }
   ],
   "source": [
    "models"
   ]
  },
  {
   "cell_type": "markdown",
   "metadata": {},
   "source": [
    "# Results"
   ]
  },
  {
   "cell_type": "markdown",
   "metadata": {},
   "source": [
    "### Top Models"
   ]
  },
  {
   "cell_type": "code",
   "execution_count": 32,
   "metadata": {},
   "outputs": [
    {
     "name": "stdout",
     "output_type": "stream",
     "text": [
      "TOP 1:\n",
      "    quantization error: 0.04872708403156791\n",
      "    topographic error: 0.020134228187919462\n",
      "    map size (NxN): 32\n",
      "    sigma: 10\n",
      "    learning_rate: 1\n",
      "\n",
      "TOP 2:\n",
      "    quantization error: 0.0007491436373034187\n",
      "    topographic error: 0.040268456375838924\n",
      "    map size (NxN): 32\n",
      "    sigma: 3\n",
      "    learning_rate: 1\n",
      "\n",
      "TOP 3:\n",
      "    quantization error: 0.07958090883050664\n",
      "    topographic error: 0.8053691275167785\n",
      "    map size (NxN): 32\n",
      "    sigma: 3\n",
      "    learning_rate: 0.01\n",
      "\n",
      "TOP 4:\n",
      "    quantization error: 0.14042394158466853\n",
      "    topographic error: 0.8120805369127517\n",
      "    map size (NxN): 32\n",
      "    sigma: 1\n",
      "    learning_rate: 1\n",
      "\n",
      "TOP 5:\n",
      "    quantization error: 0.16632730397525738\n",
      "    topographic error: 0.8322147651006712\n",
      "    map size (NxN): 32\n",
      "    sigma: 1\n",
      "    learning_rate: 0.1\n",
      "\n",
      "TOP 6:\n",
      "    quantization error: 0.16915401900916177\n",
      "    topographic error: 0.8322147651006712\n",
      "    map size (NxN): 32\n",
      "    sigma: 1\n",
      "    learning_rate: 0.01\n",
      "\n",
      "TOP 7:\n",
      "    quantization error: 0.07042358255143456\n",
      "    topographic error: 0.8523489932885906\n",
      "    map size (NxN): 32\n",
      "    sigma: 5\n",
      "    learning_rate: 0.01\n",
      "\n",
      "TOP 8:\n",
      "    quantization error: 0.0401470158098263\n",
      "    topographic error: 0.8523489932885906\n",
      "    map size (NxN): 32\n",
      "    sigma: 3\n",
      "    learning_rate: 0.1\n",
      "\n",
      "TOP 9:\n",
      "    quantization error: 0.07377661965090046\n",
      "    topographic error: 0.9261744966442953\n",
      "    map size (NxN): 32\n",
      "    sigma: 10\n",
      "    learning_rate: 0.01\n",
      "\n",
      "TOP 10:\n",
      "    quantization error: 0.0011721343253698771\n",
      "    topographic error: 0.9463087248322147\n",
      "    map size (NxN): 32\n",
      "    sigma: 5\n",
      "    learning_rate: 1\n",
      "\n",
      "TOP 11:\n",
      "    quantization error: 0.04980783294237214\n",
      "    topographic error: 0.9664429530201343\n",
      "    map size (NxN): 32\n",
      "    sigma: 10\n",
      "    learning_rate: 0.1\n",
      "\n",
      "TOP 12:\n",
      "    quantization error: 0.03087885000677546\n",
      "    topographic error: 0.9798657718120806\n",
      "    map size (NxN): 32\n",
      "    sigma: 5\n",
      "    learning_rate: 0.1\n",
      "\n",
      "TOP 13:\n",
      "    quantization error: nan\n",
      "    topographic error: 1.0\n",
      "    map size (NxN): 32\n",
      "    sigma: 10\n",
      "    learning_rate: 5\n",
      "\n",
      "TOP 14:\n",
      "    quantization error: 0.5804552919739426\n",
      "    topographic error: 1.0\n",
      "    map size (NxN): 32\n",
      "    sigma: 5\n",
      "    learning_rate: 5\n",
      "\n",
      "TOP 15:\n",
      "    quantization error: 0.36274694301802124\n",
      "    topographic error: 1.0\n",
      "    map size (NxN): 32\n",
      "    sigma: 3\n",
      "    learning_rate: 5\n",
      "\n",
      "TOP 16:\n",
      "    quantization error: 0.7217112837131049\n",
      "    topographic error: 1.0\n",
      "    map size (NxN): 32\n",
      "    sigma: 1\n",
      "    learning_rate: 5\n",
      "\n"
     ]
    }
   ],
   "source": [
    "# Sorting models by topographic_error\n",
    "for i, model in enumerate(sorted(models, key=lambda d: d['topographic_error'], reverse=False)):\n",
    "    print(\"TOP {}:\".format(i + 1))\n",
    "    print(\"    quantization error: {}\".format(model[\"quantization_error\"]))\n",
    "    print(\"    topographic error: {}\".format(model[\"topographic_error\"]))\n",
    "    print(\"    map size (NxN): {}\".format(model[\"size\"]))\n",
    "    print(\"    sigma: {}\".format(model[\"sigma\"]))\n",
    "    print(\"    learning_rate: {}\".format(model[\"learning_rate\"]))\n",
    "    print()"
   ]
  },
  {
   "cell_type": "markdown",
   "metadata": {},
   "source": [
    "# Analysis (using the Top 1 model)"
   ]
  },
  {
   "cell_type": "code",
   "execution_count": 63,
   "metadata": {},
   "outputs": [],
   "source": [
    "model = [model for model in models if model[\"sigma\"] == 10 and model[\"learning_rate\"] == 1][0]"
   ]
  },
  {
   "cell_type": "code",
   "execution_count": 64,
   "metadata": {},
   "outputs": [
    {
     "data": {
      "text/plain": [
       "{'model': <minisom.MiniSom at 0x7fc31fd82850>,\n",
       " 'size': 32,\n",
       " 'input_len': 4,\n",
       " 'sigma': 10,\n",
       " 'learning_rate': 1,\n",
       " 'quantization_error': 0.04872708403156791,\n",
       " 'topographic_error': 0.020134228187919462}"
      ]
     },
     "execution_count": 64,
     "metadata": {},
     "output_type": "execute_result"
    }
   ],
   "source": [
    "model"
   ]
  },
  {
   "cell_type": "markdown",
   "metadata": {},
   "source": [
    "## U-Matrix"
   ]
  },
  {
   "cell_type": "code",
   "execution_count": 66,
   "metadata": {},
   "outputs": [
    {
     "data": {
      "text/plain": [
       "<matplotlib.colorbar.Colorbar at 0x7fc31acc5b90>"
      ]
     },
     "execution_count": 66,
     "metadata": {},
     "output_type": "execute_result"
    },
    {
     "data": {
      "image/png": "[encoded data removed]",
      "text/plain": [
       "<Figure size 720x720 with 2 Axes>"
      ]
     },
     "metadata": {
      "needs_background": "light"
     },
     "output_type": "display_data"
    }
   ],
   "source": [
    "plt.figure(figsize=(10, 10))\n",
    "plt.pcolor(model['model'].distance_map().T, cmap='gray')\n",
    "plt.colorbar()"
   ]
  },
  {
   "cell_type": "markdown",
   "metadata": {},
   "source": [
    "Gray scale represent the calculated distances (normalized between 0 and 1). Black nodes represents nodes very close to its neighbors, and the white ones are nodes with a avg distance between its neighbors very high."
   ]
  },
  {
   "cell_type": "markdown",
   "metadata": {},
   "source": [
    "## U-Matrix with the classes plotted"
   ]
  },
  {
   "cell_type": "code",
   "execution_count": 67,
   "metadata": {},
   "outputs": [
    {
     "data": {
      "image/png": "[encoded data removed]",
      "text/plain": [
       "<Figure size 720x720 with 2 Axes>"
      ]
     },
     "metadata": {
      "needs_background": "light"
     },
     "output_type": "display_data"
    }
   ],
   "source": [
    "plt.figure(figsize=(10, 10))\n",
    "plt.pcolor(model['model'].distance_map().T, cmap='gray')\n",
    "plt.colorbar()\n",
    "\n",
    "target_values = output_df.values\n",
    "markers = ['o', 's', 'D']\n",
    "colors = ['C0', 'C1', 'C2']\n",
    "for cnt, xx in enumerate(input_data):\n",
    "    w = model['model'].winner(xx)  # getting the winner\n",
    "    plt.plot(w[0]+.5, w[1]+.5, markers[target_values[cnt]], markerfacecolor='None',\n",
    "             markeredgecolor=colors[target_values[cnt]], markersize=12, markeredgewidth=2)\n",
    "plt.axis([0, 32, 0, 32])\n",
    "plt.show()"
   ]
  },
  {
   "cell_type": "markdown",
   "metadata": {},
   "source": [
    "We can see that the model could separete the classes very well. The class represented in blue is totally isolated. The orange and green are very well separeted too but with some minor confusions."
   ]
  },
  {
   "cell_type": "markdown",
   "metadata": {},
   "source": [
    "# Hit Map"
   ]
  },
  {
   "cell_type": "code",
   "execution_count": 68,
   "metadata": {},
   "outputs": [
    {
     "data": {
      "image/png": "[encoded data removed]",
      "text/plain": [
       "<Figure size 720x720 with 2 Axes>"
      ]
     },
     "metadata": {
      "needs_background": "light"
     },
     "output_type": "display_data"
    }
   ],
   "source": [
    "plt.figure(figsize=(10, 10))\n",
    "frequencies = model['model'].activation_response(input_data)\n",
    "plt.pcolor(frequencies.T, cmap='gray') \n",
    "plt.colorbar()\n",
    "plt.show()"
   ]
  }
 ],
 "metadata": {
  "kernelspec": {
   "display_name": "Python 3",
   "language": "python",
   "name": "python3"
  },
  "language_info": {
   "codemirror_mode": {
    "name": "ipython",
    "version": 3
   },
   "file_extension": ".py",
   "mimetype": "text/x-python",
   "name": "python",
   "nbconvert_exporter": "python",
   "pygments_lexer": "ipython3",
   "version": "3.7.5"
  }
 },
 "nbformat": 4,
 "nbformat_minor": 2
}
